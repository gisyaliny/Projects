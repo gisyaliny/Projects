{
 "cells": [
  {
   "cell_type": "markdown",
   "metadata": {},
   "source": [
    "# Using PostgreSQL in Python\n",
    "* A database is an organized collection of structured data, typically stored electronically in a computer system. \n",
    "* Despite the recent development of new types of databases (designed to address the increasing volume and variability of data), a considerable amount of data around the world is still stored in what are known as **relational databases**.\n",
    "    * **Relational databases** store data as **collections of predefined tables** with rows and columns that are connected through one or more relationships. \n",
    "    *  The standard way to create and manage databases is `SQL` (Structured Query Language). `SQL` is the building block for some of the most popular relational databases on the market, such as `PostgreSQL`, `Microsoft SQL Server`, `MySQL`, and `SQLite`\n",
    "\n",
    "## Reading Material\n",
    "* [Using PostgreSQL in Python](https://www.datacamp.com/tutorial/tutorial-postgresql-python)\n",
    "* [PostgreSQL Official Site](https://www.postgresql.org/download/)\n",
    "\n",
    "## Understanding PostgreSQL\n",
    "* PostgreSQL is a lightweight, free, and open-source relational database.\n",
    "* Check [PostgreSQL]() under `Database` notes for more information\n"
   ]
  },
  {
   "cell_type": "markdown",
   "metadata": {},
   "source": [
    "## Using PostgreSQL in python\n",
    "### Prerequisites\n",
    "* Installation of PostgreSQL.\n",
    "* Installation of Python.\n",
    "* Setting up a PostgreSQL database and user.\n",
    "* Installation of `psycopg2` library (`pip install psycopg2`)"
   ]
  },
  {
   "cell_type": "markdown",
   "metadata": {},
   "source": []
  }
 ],
 "metadata": {
  "language_info": {
   "name": "python"
  }
 },
 "nbformat": 4,
 "nbformat_minor": 2
}
