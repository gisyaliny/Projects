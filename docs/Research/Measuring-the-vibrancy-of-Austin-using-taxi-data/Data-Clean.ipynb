{
 "cells": [
  {
   "cell_type": "markdown",
   "metadata": {
    "toc": true
   },
   "source": [
    "<h1>Table of Contents<span class=\"tocSkip\"></span></h1>\n",
    "<div class=\"toc\"><ul class=\"toc-item\"><li><span><a href=\"#Dealing-with-taxi-data\" data-toc-modified-id=\"Dealing-with-taxi-data-1\"><span class=\"toc-item-num\">1&nbsp;&nbsp;</span>Dealing with taxi data</a></span><ul class=\"toc-item\"><li><span><a href=\"#Read-data\" data-toc-modified-id=\"Read-data-1.1\"><span class=\"toc-item-num\">1.1&nbsp;&nbsp;</span>Read data</a></span></li><li><span><a href=\"#Transfer-to-shapefile\" data-toc-modified-id=\"Transfer-to-shapefile-1.2\"><span class=\"toc-item-num\">1.2&nbsp;&nbsp;</span>Transfer to shapefile</a></span></li><li><span><a href=\"#Only-deal-with-travel-within-austin\" data-toc-modified-id=\"Only-deal-with-travel-within-austin-1.3\"><span class=\"toc-item-num\">1.3&nbsp;&nbsp;</span>Only deal with travel within austin</a></span></li></ul></li></ul></div>"
   ]
  },
  {
   "cell_type": "markdown",
   "metadata": {},
   "source": [
    "## Dealing with taxi data\n",
    "### Read data\n",
    "https://data.world/andytryba/rideaustin"
   ]
  },
  {
   "cell_type": "code",
   "execution_count": 1,
   "metadata": {},
   "outputs": [],
   "source": [
    "import geopandas as gpd\n",
    "import pandas as pd"
   ]
  },
  {
   "cell_type": "code",
   "execution_count": 2,
   "metadata": {},
   "outputs": [
    {
     "name": "stderr",
     "output_type": "stream",
     "text": [
      "E:\\Anaconda\\envs\\gpd\\lib\\site-packages\\IPython\\core\\interactiveshell.py:3146: DtypeWarning: Columns (1,7) have mixed types.Specify dtype option on import or set low_memory=False.\n",
      "  has_raised = await self.run_ast_nodes(code_ast.body, cell_name,\n"
     ]
    },
    {
     "data": {
      "text/html": [
       "<div>\n",
       "<style scoped>\n",
       "    .dataframe tbody tr th:only-of-type {\n",
       "        vertical-align: middle;\n",
       "    }\n",
       "\n",
       "    .dataframe tbody tr th {\n",
       "        vertical-align: top;\n",
       "    }\n",
       "\n",
       "    .dataframe thead th {\n",
       "        text-align: right;\n",
       "    }\n",
       "</style>\n",
       "<table border=\"1\" class=\"dataframe\">\n",
       "  <thead>\n",
       "    <tr style=\"text-align: right;\">\n",
       "      <th></th>\n",
       "      <th>completed_on</th>\n",
       "      <th>distance_travelled</th>\n",
       "      <th>end_location_lat</th>\n",
       "      <th>end_location_long</th>\n",
       "      <th>started_on</th>\n",
       "      <th>driver_rating</th>\n",
       "      <th>rider_rating</th>\n",
       "      <th>start_zip_code</th>\n",
       "      <th>end_zip_code</th>\n",
       "      <th>charity_id</th>\n",
       "      <th>...</th>\n",
       "      <th>11/24/2016 8:35</th>\n",
       "      <th>9879</th>\n",
       "      <th>30.31</th>\n",
       "      <th>-97.74</th>\n",
       "      <th>11/24/2016 8:21</th>\n",
       "      <th>5</th>\n",
       "      <th>5.1</th>\n",
       "      <th>78701</th>\n",
       "      <th>78756</th>\n",
       "      <th>Thunder</th>\n",
       "    </tr>\n",
       "  </thead>\n",
       "  <tbody>\n",
       "    <tr>\n",
       "      <th>0</th>\n",
       "      <td>11/14/2016 19:16</td>\n",
       "      <td>2300</td>\n",
       "      <td>30.26</td>\n",
       "      <td>-97.76</td>\n",
       "      <td>11/14/2016 19:11</td>\n",
       "      <td>5.0</td>\n",
       "      <td>5.0</td>\n",
       "      <td>78701</td>\n",
       "      <td>78704</td>\n",
       "      <td>NaN</td>\n",
       "      <td>...</td>\n",
       "      <td>4.955556</td>\n",
       "      <td>11/14/2016</td>\n",
       "      <td>0.0</td>\n",
       "      <td>82.0</td>\n",
       "      <td>56.0</td>\n",
       "      <td>2.0</td>\n",
       "      <td>8.9</td>\n",
       "      <td>1.0</td>\n",
       "      <td>1.0</td>\n",
       "      <td>0.0</td>\n",
       "    </tr>\n",
       "    <tr>\n",
       "      <th>1</th>\n",
       "      <td>11/14/2016 19:17</td>\n",
       "      <td>2977</td>\n",
       "      <td>30.29</td>\n",
       "      <td>-97.73</td>\n",
       "      <td>11/14/2016 19:08</td>\n",
       "      <td>5.0</td>\n",
       "      <td>5.0</td>\n",
       "      <td>78701</td>\n",
       "      <td>78712</td>\n",
       "      <td>NaN</td>\n",
       "      <td>...</td>\n",
       "      <td>4.955556</td>\n",
       "      <td>11/14/2016</td>\n",
       "      <td>0.0</td>\n",
       "      <td>82.0</td>\n",
       "      <td>56.0</td>\n",
       "      <td>2.0</td>\n",
       "      <td>8.9</td>\n",
       "      <td>1.0</td>\n",
       "      <td>1.0</td>\n",
       "      <td>0.0</td>\n",
       "    </tr>\n",
       "    <tr>\n",
       "      <th>2</th>\n",
       "      <td>11/14/2016 19:19</td>\n",
       "      <td>1298</td>\n",
       "      <td>30.27</td>\n",
       "      <td>-97.75</td>\n",
       "      <td>11/14/2016 19:13</td>\n",
       "      <td>5.0</td>\n",
       "      <td>5.0</td>\n",
       "      <td>78701</td>\n",
       "      <td>78703</td>\n",
       "      <td>5.0</td>\n",
       "      <td>...</td>\n",
       "      <td>5.000000</td>\n",
       "      <td>11/14/2016</td>\n",
       "      <td>0.0</td>\n",
       "      <td>82.0</td>\n",
       "      <td>56.0</td>\n",
       "      <td>2.0</td>\n",
       "      <td>8.9</td>\n",
       "      <td>1.0</td>\n",
       "      <td>1.0</td>\n",
       "      <td>0.0</td>\n",
       "    </tr>\n",
       "    <tr>\n",
       "      <th>3</th>\n",
       "      <td>11/14/2016 19:19</td>\n",
       "      <td>3442</td>\n",
       "      <td>30.26</td>\n",
       "      <td>-97.76</td>\n",
       "      <td>11/14/2016 19:13</td>\n",
       "      <td>5.0</td>\n",
       "      <td>5.0</td>\n",
       "      <td>78704</td>\n",
       "      <td>78704</td>\n",
       "      <td>NaN</td>\n",
       "      <td>...</td>\n",
       "      <td>5.000000</td>\n",
       "      <td>11/14/2016</td>\n",
       "      <td>0.0</td>\n",
       "      <td>82.0</td>\n",
       "      <td>56.0</td>\n",
       "      <td>2.0</td>\n",
       "      <td>8.9</td>\n",
       "      <td>1.0</td>\n",
       "      <td>1.0</td>\n",
       "      <td>0.0</td>\n",
       "    </tr>\n",
       "    <tr>\n",
       "      <th>4</th>\n",
       "      <td>11/14/2016 19:21</td>\n",
       "      <td>6635</td>\n",
       "      <td>30.32</td>\n",
       "      <td>-97.71</td>\n",
       "      <td>11/14/2016 19:12</td>\n",
       "      <td>5.0</td>\n",
       "      <td>5.0</td>\n",
       "      <td>78701</td>\n",
       "      <td>78723</td>\n",
       "      <td>NaN</td>\n",
       "      <td>...</td>\n",
       "      <td>5.000000</td>\n",
       "      <td>11/14/2016</td>\n",
       "      <td>0.0</td>\n",
       "      <td>82.0</td>\n",
       "      <td>56.0</td>\n",
       "      <td>2.0</td>\n",
       "      <td>8.9</td>\n",
       "      <td>1.0</td>\n",
       "      <td>1.0</td>\n",
       "      <td>0.0</td>\n",
       "    </tr>\n",
       "  </tbody>\n",
       "</table>\n",
       "<p>5 rows × 29 columns</p>\n",
       "</div>"
      ],
      "text/plain": [
       "       completed_on distance_travelled  end_location_lat  end_location_long  \\\n",
       "0  11/14/2016 19:16               2300             30.26             -97.76   \n",
       "1  11/14/2016 19:17               2977             30.29             -97.73   \n",
       "2  11/14/2016 19:19               1298             30.27             -97.75   \n",
       "3  11/14/2016 19:19               3442             30.26             -97.76   \n",
       "4  11/14/2016 19:21               6635             30.32             -97.71   \n",
       "\n",
       "         started_on  driver_rating  rider_rating start_zip_code end_zip_code  \\\n",
       "0  11/14/2016 19:11            5.0           5.0          78701        78704   \n",
       "1  11/14/2016 19:08            5.0           5.0          78701        78712   \n",
       "2  11/14/2016 19:13            5.0           5.0          78701        78703   \n",
       "3  11/14/2016 19:13            5.0           5.0          78704        78704   \n",
       "4  11/14/2016 19:12            5.0           5.0          78701        78723   \n",
       "\n",
       "   charity_id  ... 11/24/2016 8:35        9879  30.31  -97.74  \\\n",
       "0         NaN  ...        4.955556  11/14/2016    0.0    82.0   \n",
       "1         NaN  ...        4.955556  11/14/2016    0.0    82.0   \n",
       "2         5.0  ...        5.000000  11/14/2016    0.0    82.0   \n",
       "3         NaN  ...        5.000000  11/14/2016    0.0    82.0   \n",
       "4         NaN  ...        5.000000  11/14/2016    0.0    82.0   \n",
       "\n",
       "   11/24/2016 8:21    5  5.1 78701  78756  Thunder  \n",
       "0             56.0  2.0  8.9   1.0    1.0      0.0  \n",
       "1             56.0  2.0  8.9   1.0    1.0      0.0  \n",
       "2             56.0  2.0  8.9   1.0    1.0      0.0  \n",
       "3             56.0  2.0  8.9   1.0    1.0      0.0  \n",
       "4             56.0  2.0  8.9   1.0    1.0      0.0  \n",
       "\n",
       "[5 rows x 29 columns]"
      ]
     },
     "execution_count": 2,
     "metadata": {},
     "output_type": "execute_result"
    }
   ],
   "source": [
    "csv_name = '../Data/RideAustin_Weather.csv'\n",
    "df = pd.read_csv(csv_name, encoding= 'unicode_escape')\n",
    "df.head()"
   ]
  },
  {
   "cell_type": "markdown",
   "metadata": {},
   "source": [
    "### Transfer to shapefile"
   ]
  },
  {
   "cell_type": "code",
   "execution_count": 3,
   "metadata": {},
   "outputs": [
    {
     "name": "stdout",
     "output_type": "stream",
     "text": [
      "Wall time: 5.12 s\n"
     ]
    }
   ],
   "source": [
    "%%time\n",
    "from shapely.geometry import Point\n",
    "import fiona\n",
    "\n",
    "start_loc = [Point(xy) for xy in zip(df.start_location_long,df.start_location_lat)]\n",
    "end_loc = [Point(xy) for xy in zip(df.end_location_long,df.end_location_lat)]"
   ]
  },
  {
   "cell_type": "markdown",
   "metadata": {},
   "source": [
    "### Only deal with travel within austin"
   ]
  },
  {
   "cell_type": "code",
   "execution_count": 4,
   "metadata": {},
   "outputs": [],
   "source": [
    "Shapefile_path = '../Data/austin/Austin2018.shp'\n",
    "austin = gpd.read_file(Shapefile_path)"
   ]
  },
  {
   "cell_type": "code",
   "execution_count": 5,
   "metadata": {},
   "outputs": [
    {
     "data": {
      "text/plain": [
       "<AxesSubplot:>"
      ]
     },
     "execution_count": 5,
     "metadata": {},
     "output_type": "execute_result"
    },
    {
     "data": {
      "image/png": "[encoded data removed]",
      "text/plain": [
       "<Figure size 432x288 with 1 Axes>"
      ]
     },
     "metadata": {
      "needs_background": "light"
     },
     "output_type": "display_data"
    }
   ],
   "source": [
    "austin.plot()"
   ]
  },
  {
   "cell_type": "code",
   "execution_count": 6,
   "metadata": {},
   "outputs": [
    {
     "name": "stdout",
     "output_type": "stream",
     "text": [
      "Wall time: 29min 35s\n"
     ]
    },
    {
     "data": {
      "text/plain": [
       "8739"
      ]
     },
     "execution_count": 6,
     "metadata": {},
     "output_type": "execute_result"
    }
   ],
   "source": [
    "%%time\n",
    "remove_id = []\n",
    "\n",
    "for index,pt in enumerate(start_loc):\n",
    "    if not austin.contains(pt)[0]:\n",
    "        remove_id.append(index)\n",
    "\n",
    "for index,pt in enumerate(end_loc):\n",
    "    if not austin.contains(pt)[0]:\n",
    "        remove_id.append(index)\n",
    "\n",
    "remove_id = list(set(remove_id))\n",
    "len(remove_id)"
   ]
  },
  {
   "cell_type": "code",
   "execution_count": 9,
   "metadata": {},
   "outputs": [],
   "source": [
    "df_new = df.drop(remove_id)\n",
    "df_new.to_csv('../Data/RideAustin_Weather_new.csv')"
   ]
  }
 ],
 "metadata": {
  "kernelspec": {
   "display_name": "Python (geopandas)",
   "language": "python",
   "name": "gpd"
  },
  "language_info": {
   "codemirror_mode": {
    "name": "ipython",
    "version": 3
   },
   "file_extension": ".py",
   "mimetype": "text/x-python",
   "name": "python",
   "nbconvert_exporter": "python",
   "pygments_lexer": "ipython3",
   "version": "3.8.5"
  },
  "toc": {
   "base_numbering": 1,
   "nav_menu": {},
   "number_sections": true,
   "sideBar": true,
   "skip_h1_title": true,
   "title_cell": "Table of Contents",
   "title_sidebar": "Contents",
   "toc_cell": true,
   "toc_position": {},
   "toc_section_display": true,
   "toc_window_display": true
  }
 },
 "nbformat": 4,
 "nbformat_minor": 4
}
