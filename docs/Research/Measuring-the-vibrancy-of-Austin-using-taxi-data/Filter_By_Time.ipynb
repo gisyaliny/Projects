{
 "cells": [
  {
   "cell_type": "markdown",
   "metadata": {
    "toc": true
   },
   "source": [
    "<h1>Table of Contents<span class=\"tocSkip\"></span></h1>\n",
    "<div class=\"toc\"><ul class=\"toc-item\"><li><span><a href=\"#Build-Matrix\" data-toc-modified-id=\"Build-Matrix-1\"><span class=\"toc-item-num\">1&nbsp;&nbsp;</span>Build Matrix</a></span><ul class=\"toc-item\"><li><span><a href=\"#First-look-of-our-data\" data-toc-modified-id=\"First-look-of-our-data-1.1\"><span class=\"toc-item-num\">1.1&nbsp;&nbsp;</span>First look of our data</a></span></li><li><span><a href=\"#Filter-by-time\" data-toc-modified-id=\"Filter-by-time-1.2\"><span class=\"toc-item-num\">1.2&nbsp;&nbsp;</span>Filter by time</a></span></li></ul></li></ul></div>"
   ]
  },
  {
   "cell_type": "markdown",
   "metadata": {},
   "source": [
    "## Build Matrix\n",
    "### First look of our data"
   ]
  },
  {
   "cell_type": "code",
   "execution_count": 1,
   "metadata": {},
   "outputs": [],
   "source": [
    "import matplotlib.pyplot as plt\n",
    "plt.rcParams['figure.figsize'] = [12, 10]"
   ]
  },
  {
   "cell_type": "code",
   "execution_count": 2,
   "metadata": {},
   "outputs": [],
   "source": [
    "import geopandas as gpd\n",
    "import pandas as pd"
   ]
  },
  {
   "cell_type": "code",
   "execution_count": 3,
   "metadata": {
    "scrolled": true
   },
   "outputs": [
    {
     "data": {
      "text/html": [
       "<div>\n",
       "<style scoped>\n",
       "    .dataframe tbody tr th:only-of-type {\n",
       "        vertical-align: middle;\n",
       "    }\n",
       "\n",
       "    .dataframe tbody tr th {\n",
       "        vertical-align: top;\n",
       "    }\n",
       "\n",
       "    .dataframe thead th {\n",
       "        text-align: right;\n",
       "    }\n",
       "</style>\n",
       "<table border=\"1\" class=\"dataframe\">\n",
       "  <thead>\n",
       "    <tr style=\"text-align: right;\">\n",
       "      <th></th>\n",
       "      <th>Unnamed: 0</th>\n",
       "      <th>completed_on</th>\n",
       "      <th>distance_travelled</th>\n",
       "      <th>end_location_lat</th>\n",
       "      <th>end_location_long</th>\n",
       "      <th>started_on</th>\n",
       "      <th>start_location_long</th>\n",
       "      <th>start_location_lat</th>\n",
       "    </tr>\n",
       "  </thead>\n",
       "  <tbody>\n",
       "    <tr>\n",
       "      <th>0</th>\n",
       "      <td>0</td>\n",
       "      <td>11/14/2016 19:16</td>\n",
       "      <td>2300</td>\n",
       "      <td>30.26</td>\n",
       "      <td>-97.76</td>\n",
       "      <td>11/14/2016 19:11</td>\n",
       "      <td>-97.75</td>\n",
       "      <td>30.27</td>\n",
       "    </tr>\n",
       "    <tr>\n",
       "      <th>1</th>\n",
       "      <td>1</td>\n",
       "      <td>11/14/2016 19:17</td>\n",
       "      <td>2977</td>\n",
       "      <td>30.29</td>\n",
       "      <td>-97.73</td>\n",
       "      <td>11/14/2016 19:08</td>\n",
       "      <td>-97.74</td>\n",
       "      <td>30.27</td>\n",
       "    </tr>\n",
       "    <tr>\n",
       "      <th>2</th>\n",
       "      <td>2</td>\n",
       "      <td>11/14/2016 19:19</td>\n",
       "      <td>1298</td>\n",
       "      <td>30.27</td>\n",
       "      <td>-97.75</td>\n",
       "      <td>11/14/2016 19:13</td>\n",
       "      <td>-97.75</td>\n",
       "      <td>30.27</td>\n",
       "    </tr>\n",
       "    <tr>\n",
       "      <th>3</th>\n",
       "      <td>3</td>\n",
       "      <td>11/14/2016 19:19</td>\n",
       "      <td>3442</td>\n",
       "      <td>30.26</td>\n",
       "      <td>-97.76</td>\n",
       "      <td>11/14/2016 19:13</td>\n",
       "      <td>-97.78</td>\n",
       "      <td>30.25</td>\n",
       "    </tr>\n",
       "    <tr>\n",
       "      <th>4</th>\n",
       "      <td>4</td>\n",
       "      <td>11/14/2016 19:21</td>\n",
       "      <td>6635</td>\n",
       "      <td>30.32</td>\n",
       "      <td>-97.71</td>\n",
       "      <td>11/14/2016 19:12</td>\n",
       "      <td>-97.74</td>\n",
       "      <td>30.28</td>\n",
       "    </tr>\n",
       "  </tbody>\n",
       "</table>\n",
       "</div>"
      ],
      "text/plain": [
       "   Unnamed: 0      completed_on  distance_travelled  end_location_lat  \\\n",
       "0           0  11/14/2016 19:16                2300             30.26   \n",
       "1           1  11/14/2016 19:17                2977             30.29   \n",
       "2           2  11/14/2016 19:19                1298             30.27   \n",
       "3           3  11/14/2016 19:19                3442             30.26   \n",
       "4           4  11/14/2016 19:21                6635             30.32   \n",
       "\n",
       "   end_location_long        started_on  start_location_long  \\\n",
       "0             -97.76  11/14/2016 19:11               -97.75   \n",
       "1             -97.73  11/14/2016 19:08               -97.74   \n",
       "2             -97.75  11/14/2016 19:13               -97.75   \n",
       "3             -97.76  11/14/2016 19:13               -97.78   \n",
       "4             -97.71  11/14/2016 19:12               -97.74   \n",
       "\n",
       "   start_location_lat  \n",
       "0               30.27  \n",
       "1               30.27  \n",
       "2               30.27  \n",
       "3               30.25  \n",
       "4               30.28  "
      ]
     },
     "execution_count": 3,
     "metadata": {},
     "output_type": "execute_result"
    }
   ],
   "source": [
    "csv_name = '../Data/RideAustin_Weather_new.csv'\n",
    "df = pd.read_csv(csv_name, encoding= 'unicode_escape')\n",
    "df = df.dropna(subset=['started_on', 'completed_on','start_location_long','start_location_lat','end_location_long','end_location_lat'])\n",
    "df.head()"
   ]
  },
  {
   "cell_type": "markdown",
   "metadata": {},
   "source": [
    "### Filter by time"
   ]
  },
  {
   "cell_type": "code",
   "execution_count": 7,
   "metadata": {},
   "outputs": [],
   "source": [
    "from datetime import datetime\n",
    "import numpy as np\n",
    "import os"
   ]
  },
  {
   "cell_type": "code",
   "execution_count": 5,
   "metadata": {},
   "outputs": [],
   "source": [
    "started_time = [datetime.strptime(str(data),\"%m/%d/%Y %H:%M\") for data in df.started_on]\n",
    "\n",
    "completed_time = [datetime.strptime(str(data),\"%m/%d/%Y %H:%M\") for data in df.completed_on]"
   ]
  },
  {
   "cell_type": "code",
   "execution_count": 12,
   "metadata": {},
   "outputs": [
    {
     "data": {
      "text/plain": [
       "[0, 3, 6, 9, 12, 15, 18, 21, 24]"
      ]
     },
     "execution_count": 12,
     "metadata": {},
     "output_type": "execute_result"
    }
   ],
   "source": [
    "def filter_by_hour(end_dt,start_h=8, end_h=10):\n",
    "    return start_h <= end_dt.hour < end_h\n",
    "\n",
    "time_range = np.arange(0,24,3)\n",
    "time_range = list(time_range)\n",
    "time_range.append(24)\n",
    "time_range"
   ]
  },
  {
   "cell_type": "code",
   "execution_count": 14,
   "metadata": {},
   "outputs": [
    {
     "name": "stdout",
     "output_type": "stream",
     "text": [
      "0 : (95296, 8)\n",
      "3 : (100151, 8)\n",
      "6 : (77979, 8)\n",
      "9 : (18060, 8)\n",
      "12 : (25794, 8)\n",
      "15 : (45121, 8)\n",
      "18 : (49425, 8)\n",
      "21 : (60570, 8)\n"
     ]
    }
   ],
   "source": [
    "for index in range(len(time_range)-1):\n",
    "    tv =  [filter_by_hour(data,time_range[index],time_range[index+1]) for data in completed_time]\n",
    "    tdf = df[tv]\n",
    "    print(f'{time_range[index]} : {tdf.shape}')\n",
    "    fn = os.path.join('../Data/Table','RideAustin_' + str(time_range[index]) +'_' + str(time_range[index+1]) +'.csv')\n",
    "    tdf.to_csv(fn)"
   ]
  },
  {
   "cell_type": "code",
   "execution_count": 16,
   "metadata": {},
   "outputs": [
    {
     "data": {
      "text/html": [
       "<div>\n",
       "<style scoped>\n",
       "    .dataframe tbody tr th:only-of-type {\n",
       "        vertical-align: middle;\n",
       "    }\n",
       "\n",
       "    .dataframe tbody tr th {\n",
       "        vertical-align: top;\n",
       "    }\n",
       "\n",
       "    .dataframe thead th {\n",
       "        text-align: right;\n",
       "    }\n",
       "</style>\n",
       "<table border=\"1\" class=\"dataframe\">\n",
       "  <thead>\n",
       "    <tr style=\"text-align: right;\">\n",
       "      <th></th>\n",
       "      <th>Id</th>\n",
       "      <th>Shape_Leng</th>\n",
       "      <th>Shape_Area</th>\n",
       "      <th>geometry</th>\n",
       "    </tr>\n",
       "  </thead>\n",
       "  <tbody>\n",
       "    <tr>\n",
       "      <th>0</th>\n",
       "      <td>0</td>\n",
       "      <td>0.02079</td>\n",
       "      <td>2.701401e-05</td>\n",
       "      <td>POLYGON ((-97.65444 30.50675, -97.65964 30.506...</td>\n",
       "    </tr>\n",
       "    <tr>\n",
       "      <th>1</th>\n",
       "      <td>0</td>\n",
       "      <td>0.00750</td>\n",
       "      <td>9.236718e-07</td>\n",
       "      <td>POLYGON ((-97.57298 30.34562, -97.57648 30.344...</td>\n",
       "    </tr>\n",
       "    <tr>\n",
       "      <th>2</th>\n",
       "      <td>0</td>\n",
       "      <td>0.02079</td>\n",
       "      <td>2.701401e-05</td>\n",
       "      <td>POLYGON ((-97.96109 30.34043, -97.96629 30.340...</td>\n",
       "    </tr>\n",
       "    <tr>\n",
       "      <th>3</th>\n",
       "      <td>0</td>\n",
       "      <td>0.02079</td>\n",
       "      <td>2.701400e-05</td>\n",
       "      <td>POLYGON ((-97.94030 30.37681, -97.94550 30.376...</td>\n",
       "    </tr>\n",
       "    <tr>\n",
       "      <th>4</th>\n",
       "      <td>0</td>\n",
       "      <td>0.02079</td>\n",
       "      <td>2.701401e-05</td>\n",
       "      <td>POLYGON ((-97.72201 30.41319, -97.72720 30.413...</td>\n",
       "    </tr>\n",
       "  </tbody>\n",
       "</table>\n",
       "</div>"
      ],
      "text/plain": [
       "   Id  Shape_Leng    Shape_Area  \\\n",
       "0   0     0.02079  2.701401e-05   \n",
       "1   0     0.00750  9.236718e-07   \n",
       "2   0     0.02079  2.701401e-05   \n",
       "3   0     0.02079  2.701400e-05   \n",
       "4   0     0.02079  2.701401e-05   \n",
       "\n",
       "                                            geometry  \n",
       "0  POLYGON ((-97.65444 30.50675, -97.65964 30.506...  \n",
       "1  POLYGON ((-97.57298 30.34562, -97.57648 30.344...  \n",
       "2  POLYGON ((-97.96109 30.34043, -97.96629 30.340...  \n",
       "3  POLYGON ((-97.94030 30.37681, -97.94550 30.376...  \n",
       "4  POLYGON ((-97.72201 30.41319, -97.72720 30.413...  "
      ]
     },
     "execution_count": 16,
     "metadata": {},
     "output_type": "execute_result"
    }
   ],
   "source": [
    "grid_path = \"../Data/Fishnet500/Net500m.shp\"\n",
    "gdf = gpd.read_file(grid_path)\n",
    "gdf.head()"
   ]
  }
 ],
 "metadata": {
  "kernelspec": {
   "display_name": "Python (geopandas)",
   "language": "python",
   "name": "gpd"
  },
  "language_info": {
   "codemirror_mode": {
    "name": "ipython",
    "version": 3
   },
   "file_extension": ".py",
   "mimetype": "text/x-python",
   "name": "python",
   "nbconvert_exporter": "python",
   "pygments_lexer": "ipython3",
   "version": "3.8.5"
  },
  "toc": {
   "base_numbering": 1,
   "nav_menu": {},
   "number_sections": true,
   "sideBar": true,
   "skip_h1_title": true,
   "title_cell": "Table of Contents",
   "title_sidebar": "Contents",
   "toc_cell": true,
   "toc_position": {
    "height": "calc(100% - 180px)",
    "left": "10px",
    "top": "150px",
    "width": "384px"
   },
   "toc_section_display": true,
   "toc_window_display": true
  }
 },
 "nbformat": 4,
 "nbformat_minor": 4
}
