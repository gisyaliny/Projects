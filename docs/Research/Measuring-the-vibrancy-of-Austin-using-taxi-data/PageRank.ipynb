{
 "cells": [
  {
   "cell_type": "markdown",
   "metadata": {
    "toc": true
   },
   "source": [
    "<h1>Table of Contents<span class=\"tocSkip\"></span></h1>\n",
    "<div class=\"toc\"><ul class=\"toc-item\"><li><span><a href=\"#Build-Matrix\" data-toc-modified-id=\"Build-Matrix-1\"><span class=\"toc-item-num\">1&nbsp;&nbsp;</span>Build Matrix</a></span></li></ul></div>"
   ]
  },
  {
   "cell_type": "markdown",
   "metadata": {},
   "source": [
    "## Build Matrix"
   ]
  },
  {
   "cell_type": "code",
   "execution_count": 11,
   "metadata": {},
   "outputs": [],
   "source": [
    "import geopandas as gpd\n",
    "import pandas as pd\n",
    "import numpy as np\n",
    "import os\n",
    "import numpy.linalg as la\n",
    "from sklearn.preprocessing import normalize"
   ]
  },
  {
   "cell_type": "code",
   "execution_count": 12,
   "metadata": {},
   "outputs": [],
   "source": [
    "def pageRank(linkMatrix, d) :\n",
    "    n = linkMatrix.shape[0]\n",
    "    M = d * linkMatrix + (1-d)/n * np.ones([n, n]) # np.ones() is the J matrix, with ones for each entry.\n",
    "    r = 100 * np.ones(n) / n # Sets up this vector (6 entries of 1/6 × 100 each)\n",
    "    lastR = r\n",
    "    r = M @ r\n",
    "    i = 0\n",
    "    while la.norm(lastR - r) > 0.01 :\n",
    "        lastR = r\n",
    "        r = M @ r\n",
    "        i += 1\n",
    "    return r"
   ]
  },
  {
   "cell_type": "code",
   "execution_count": 3,
   "metadata": {},
   "outputs": [
    {
     "data": {
      "text/html": [
       "<div>\n",
       "<style scoped>\n",
       "    .dataframe tbody tr th:only-of-type {\n",
       "        vertical-align: middle;\n",
       "    }\n",
       "\n",
       "    .dataframe tbody tr th {\n",
       "        vertical-align: top;\n",
       "    }\n",
       "\n",
       "    .dataframe thead th {\n",
       "        text-align: right;\n",
       "    }\n",
       "</style>\n",
       "<table border=\"1\" class=\"dataframe\">\n",
       "  <thead>\n",
       "    <tr style=\"text-align: right;\">\n",
       "      <th></th>\n",
       "      <th>Id</th>\n",
       "      <th>Shape_Leng</th>\n",
       "      <th>Shape_Area</th>\n",
       "      <th>geometry</th>\n",
       "    </tr>\n",
       "  </thead>\n",
       "  <tbody>\n",
       "    <tr>\n",
       "      <th>0</th>\n",
       "      <td>0</td>\n",
       "      <td>0.02079</td>\n",
       "      <td>2.701401e-05</td>\n",
       "      <td>POLYGON ((-97.65444 30.50675, -97.65964 30.506...</td>\n",
       "    </tr>\n",
       "    <tr>\n",
       "      <th>1</th>\n",
       "      <td>0</td>\n",
       "      <td>0.00750</td>\n",
       "      <td>9.236718e-07</td>\n",
       "      <td>POLYGON ((-97.57298 30.34562, -97.57648 30.344...</td>\n",
       "    </tr>\n",
       "    <tr>\n",
       "      <th>2</th>\n",
       "      <td>0</td>\n",
       "      <td>0.02079</td>\n",
       "      <td>2.701401e-05</td>\n",
       "      <td>POLYGON ((-97.96109 30.34043, -97.96629 30.340...</td>\n",
       "    </tr>\n",
       "    <tr>\n",
       "      <th>3</th>\n",
       "      <td>0</td>\n",
       "      <td>0.02079</td>\n",
       "      <td>2.701400e-05</td>\n",
       "      <td>POLYGON ((-97.94030 30.37681, -97.94550 30.376...</td>\n",
       "    </tr>\n",
       "    <tr>\n",
       "      <th>4</th>\n",
       "      <td>0</td>\n",
       "      <td>0.02079</td>\n",
       "      <td>2.701401e-05</td>\n",
       "      <td>POLYGON ((-97.72201 30.41319, -97.72720 30.413...</td>\n",
       "    </tr>\n",
       "  </tbody>\n",
       "</table>\n",
       "</div>"
      ],
      "text/plain": [
       "   Id  Shape_Leng    Shape_Area  \\\n",
       "0   0     0.02079  2.701401e-05   \n",
       "1   0     0.00750  9.236718e-07   \n",
       "2   0     0.02079  2.701401e-05   \n",
       "3   0     0.02079  2.701400e-05   \n",
       "4   0     0.02079  2.701401e-05   \n",
       "\n",
       "                                            geometry  \n",
       "0  POLYGON ((-97.65444 30.50675, -97.65964 30.506...  \n",
       "1  POLYGON ((-97.57298 30.34562, -97.57648 30.344...  \n",
       "2  POLYGON ((-97.96109 30.34043, -97.96629 30.340...  \n",
       "3  POLYGON ((-97.94030 30.37681, -97.94550 30.376...  \n",
       "4  POLYGON ((-97.72201 30.41319, -97.72720 30.413...  "
      ]
     },
     "execution_count": 3,
     "metadata": {},
     "output_type": "execute_result"
    }
   ],
   "source": [
    "grid_path = \"../Data/Fishnet500/Net500m.shp\"\n",
    "gdf = gpd.read_file(grid_path)\n",
    "gdf.head()"
   ]
  },
  {
   "cell_type": "code",
   "execution_count": 4,
   "metadata": {},
   "outputs": [
    {
     "data": {
      "text/plain": [
       "['RideAustin_0_3.csv',\n",
       " 'RideAustin_12_15.csv',\n",
       " 'RideAustin_15_18.csv',\n",
       " 'RideAustin_18_21.csv',\n",
       " 'RideAustin_21_24.csv',\n",
       " 'RideAustin_3_6.csv',\n",
       " 'RideAustin_6_9.csv',\n",
       " 'RideAustin_9_12.csv']"
      ]
     },
     "execution_count": 4,
     "metadata": {},
     "output_type": "execute_result"
    }
   ],
   "source": [
    "end_df_lst = os.listdir('end_pt')\n",
    "end_df_lst"
   ]
  },
  {
   "cell_type": "code",
   "execution_count": 28,
   "metadata": {},
   "outputs": [
    {
     "name": "stdout",
     "output_type": "stream",
     "text": [
      "Start df : 95296, End df : 95296, Total : 95296\n",
      "Complete ../Data/Output\\RideAustin_0_3_pt.shp\n",
      "Start df : 25794, End df : 25794, Total : 25794\n",
      "Complete ../Data/Output\\RideAustin_12_15_pt.shp\n",
      "Start df : 45121, End df : 35139, Total : 35138\n",
      "only integers, slices (`:`), ellipsis (`...`), numpy.newaxis (`None`) and integer or boolean arrays are valid indices\n",
      "Start df : 49425, End df : 49425, Total : 49425\n",
      "Complete ../Data/Output\\RideAustin_18_21_pt.shp\n",
      "Start df : 60570, End df : 60570, Total : 60570\n",
      "Complete ../Data/Output\\RideAustin_21_24_pt.shp\n",
      "Start df : 100151, End df : 100151, Total : 100151\n",
      "Complete ../Data/Output\\RideAustin_3_6_pt.shp\n",
      "Start df : 71477, End df : 77979, Total : 71477\n",
      "Complete ../Data/Output\\RideAustin_6_9_pt.shp\n",
      "Start df : 18060, End df : 18060, Total : 18060\n",
      "Complete ../Data/Output\\RideAustin_9_12_pt.shp\n",
      "Wall time: 41 s\n"
     ]
    }
   ],
   "source": [
    "%%time\n",
    "\n",
    "rows = gdf.shape[0]\n",
    "\n",
    "output_as_point = True\n",
    "\n",
    "pt_lst = [x.centroid for x in gdf.geometry]\n",
    "gdf_new = gpd.GeoDataFrame(gdf, geometry = pt_lst)\n",
    "\n",
    "for df in end_df_lst:\n",
    "    matrix = np.zeros((rows,rows))\n",
    "    start_df = pd.read_csv(os.path.join('start_pt',df))\n",
    "    end_df = pd.read_csv(os.path.join('end_pt',df))\n",
    "    tdf = start_df.merge(end_df, left_on = 'Pid',right_on = 'Pid')\n",
    "    print(f'Start df : {start_df.shape[0]}, End df : {end_df.shape[0]}, Total : {tdf.shape[0]}')\n",
    "    try:\n",
    "        for row in tdf.iloc:\n",
    "            matrix[row.Gid_y][row.Gid_x] +=1\n",
    "        matrix_norm = normalize(matrix, axis=0, norm='l1')\n",
    "        r = pageRank(matrix_norm,0.9)\n",
    "        if output_as_point:\n",
    "            gdf_new['Rank'] = r\n",
    "            fn = os.path.join('../Data/Output',str(df).replace('.csv','_pt.shp'))\n",
    "            gdf_new.to_file(fn)         \n",
    "        else:    \n",
    "            gdf['Rank'] = r\n",
    "            fn = os.path.join('../Data/Output',str(df).replace('.csv','.shp'))\n",
    "            gdf.to_file(fn)\n",
    "        print(f'Complete {fn}')\n",
    "    except Exception as e:\n",
    "        print(e)"
   ]
  },
  {
   "cell_type": "code",
   "execution_count": 6,
   "metadata": {},
   "outputs": [
    {
     "data": {
      "text/html": [
       "<div>\n",
       "<style scoped>\n",
       "    .dataframe tbody tr th:only-of-type {\n",
       "        vertical-align: middle;\n",
       "    }\n",
       "\n",
       "    .dataframe tbody tr th {\n",
       "        vertical-align: top;\n",
       "    }\n",
       "\n",
       "    .dataframe thead th {\n",
       "        text-align: right;\n",
       "    }\n",
       "</style>\n",
       "<table border=\"1\" class=\"dataframe\">\n",
       "  <thead>\n",
       "    <tr style=\"text-align: right;\">\n",
       "      <th></th>\n",
       "      <th>Pid</th>\n",
       "      <th>Gid_x</th>\n",
       "      <th>Gid_y</th>\n",
       "    </tr>\n",
       "  </thead>\n",
       "  <tbody>\n",
       "    <tr>\n",
       "      <th>0</th>\n",
       "      <td>7941</td>\n",
       "      <td>5541</td>\n",
       "      <td>5541</td>\n",
       "    </tr>\n",
       "    <tr>\n",
       "      <th>1</th>\n",
       "      <td>7942</td>\n",
       "      <td>2238</td>\n",
       "      <td>4559</td>\n",
       "    </tr>\n",
       "    <tr>\n",
       "      <th>2</th>\n",
       "      <td>7943</td>\n",
       "      <td>1238</td>\n",
       "      <td>4947</td>\n",
       "    </tr>\n",
       "    <tr>\n",
       "      <th>3</th>\n",
       "      <td>7944</td>\n",
       "      <td>4350</td>\n",
       "      <td>2479</td>\n",
       "    </tr>\n",
       "    <tr>\n",
       "      <th>4</th>\n",
       "      <td>7945</td>\n",
       "      <td>1238</td>\n",
       "      <td>4940</td>\n",
       "    </tr>\n",
       "  </tbody>\n",
       "</table>\n",
       "</div>"
      ],
      "text/plain": [
       "    Pid  Gid_x  Gid_y\n",
       "0  7941   5541   5541\n",
       "1  7942   2238   4559\n",
       "2  7943   1238   4947\n",
       "3  7944   4350   2479\n",
       "4  7945   1238   4940"
      ]
     },
     "execution_count": 6,
     "metadata": {},
     "output_type": "execute_result"
    }
   ],
   "source": [
    "tdf.head()"
   ]
  },
  {
   "cell_type": "code",
   "execution_count": 13,
   "metadata": {},
   "outputs": [
    {
     "data": {
      "text/plain": [
       "array([[0., 0., 0., ..., 0., 0., 0.],\n",
       "       [0., 0., 0., ..., 0., 0., 0.],\n",
       "       [0., 0., 0., ..., 0., 0., 0.],\n",
       "       ...,\n",
       "       [0., 0., 0., ..., 0., 0., 0.],\n",
       "       [0., 0., 0., ..., 0., 0., 0.],\n",
       "       [0., 0., 0., ..., 0., 0., 0.]])"
      ]
     },
     "execution_count": 13,
     "metadata": {},
     "output_type": "execute_result"
    }
   ],
   "source": [
    "matrix_norm = normalize(matrix, axis=0, norm='l1')\n",
    "matrix_norm"
   ]
  },
  {
   "cell_type": "code",
   "execution_count": 14,
   "metadata": {},
   "outputs": [
    {
     "data": {
      "text/plain": [
       "array([1.15521465e-05, 1.15521465e-05, 1.15521465e-05, ...,\n",
       "       1.15521465e-05, 1.15521465e-05, 1.15521465e-05])"
      ]
     },
     "execution_count": 14,
     "metadata": {},
     "output_type": "execute_result"
    }
   ],
   "source": [
    "r = pageRank(matrix_norm,0.9)\n",
    "r"
   ]
  },
  {
   "cell_type": "code",
   "execution_count": null,
   "metadata": {},
   "outputs": [],
   "source": [
    "gdf['Rank'] = r\n",
    "gdf.head()"
   ]
  },
  {
   "cell_type": "code",
   "execution_count": null,
   "metadata": {},
   "outputs": [],
   "source": [
    "gdf.to_file('../Data/Output/RideAustin_6_8.shp')"
   ]
  },
  {
   "cell_type": "code",
   "execution_count": null,
   "metadata": {},
   "outputs": [],
   "source": []
  }
 ],
 "metadata": {
  "kernelspec": {
   "display_name": "Python (geopandas)",
   "language": "python",
   "name": "gpd"
  },
  "language_info": {
   "codemirror_mode": {
    "name": "ipython",
    "version": 3
   },
   "file_extension": ".py",
   "mimetype": "text/x-python",
   "name": "python",
   "nbconvert_exporter": "python",
   "pygments_lexer": "ipython3",
   "version": "3.8.5"
  },
  "toc": {
   "base_numbering": 1,
   "nav_menu": {},
   "number_sections": true,
   "sideBar": true,
   "skip_h1_title": true,
   "title_cell": "Table of Contents",
   "title_sidebar": "Contents",
   "toc_cell": true,
   "toc_position": {},
   "toc_section_display": true,
   "toc_window_display": true
  }
 },
 "nbformat": 4,
 "nbformat_minor": 4
}
