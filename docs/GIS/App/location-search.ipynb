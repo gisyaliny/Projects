{
 "cells": [
  {
   "cell_type": "code",
   "execution_count": 22,
   "metadata": {},
   "outputs": [],
   "source": [
    "from geopy.geocoders import Nominatim\n",
    "import ipywidgets as widgets\n",
    "from ipywidgets import Output, VBox, HBox, Text, Button, Select\n",
    "from IPython.display import display, HTML\n",
    "from folium import Marker\n",
    "import leafmap"
   ]
  },
  {
   "cell_type": "code",
   "execution_count": 15,
   "metadata": {},
   "outputs": [],
   "source": [
    "# Function to search for location\n",
    "def search_location(btn):\n",
    "    location = location_input.value\n",
    "    geolocator = Nominatim(user_agent=\"location_search\")\n",
    "    try:\n",
    "        location_info = geolocator.geocode(location)\n",
    "        if location_info:\n",
    "            return location_info.latitude, location_info.longitude\n",
    "        else:\n",
    "            return None, None\n",
    "    except Exception as e:\n",
    "        return None, None\n",
    "\n",
    "# # Function to render map using Leafmap\n",
    "# def render_map(latitude, longitude):\n",
    "#     if latitude is not None and longitude is not None:\n",
    "#         m = leafmap.Map()\n",
    "#         html = HTML(\"Searched Location\")\n",
    "#         marker = Marker(location=(latitude, longitude), popup=html)\n",
    "#         m.add_overlay_layer(marker)\n",
    "#         m.to_html(outfile=\"map.html\", title=\"Location Map\")\n",
    "#         result_label.value = \"Map plotted. Check 'map.html'\"\n",
    "#     else:\n",
    "#         result_label.value = \"Location not found.\""
   ]
  },
  {
   "cell_type": "code",
   "execution_count": 19,
   "metadata": {},
   "outputs": [],
   "source": [
    "def search_location(btn):\n",
    "    location = location_input.value.lower()  # Convert input to lowercase\n",
    "    geolocator = Nominatim(user_agent=\"location_search\")\n",
    "    try:\n",
    "        locations = geolocator.geocode(location, exactly_one=False)\n",
    "        if locations:\n",
    "            top_locations = [loc.address for loc in locations[:5]] \n",
    "            return top_locations\n",
    "        else:\n",
    "            return [\"No matching locations found.\"]\n",
    "    except Exception as e:\n",
    "        return [\"Error occurred during location search.\"]"
   ]
  },
  {
   "cell_type": "code",
   "execution_count": 20,
   "metadata": {},
   "outputs": [
    {
     "data": {
      "application/vnd.jupyter.widget-view+json": {
       "model_id": "86ee88cb733b478b8ed57f68cf487857",
       "version_major": 2,
       "version_minor": 0
      },
      "text/plain": [
       "Text(value='', description='Location:', placeholder='Enter location')"
      ]
     },
     "metadata": {},
     "output_type": "display_data"
    },
    {
     "data": {
      "application/vnd.jupyter.widget-view+json": {
       "model_id": "03e3bd77be664069ad298026980af6f7",
       "version_major": 2,
       "version_minor": 0
      },
      "text/plain": [
       "Button(description='Search', style=ButtonStyle())"
      ]
     },
     "metadata": {},
     "output_type": "display_data"
    },
    {
     "data": {
      "application/vnd.jupyter.widget-view+json": {
       "model_id": "624154f18b2247ddac1faf6da0d8eef4",
       "version_major": 2,
       "version_minor": 0
      },
      "text/plain": [
       "Label(value='')"
      ]
     },
     "metadata": {},
     "output_type": "display_data"
    },
    {
     "name": "stdout",
     "output_type": "stream",
     "text": [
      "['Cambell Hill Drive West, Cache Creek, Thompson-Nicola Regional District, British Columbia, V0X 1H0, Canada', 'Cambell Hill Drive West, Cache Creek, Thompson-Nicola Regional District, British Columbia, V0X 1H0, Canada', 'Cambell Hill Drive West, Cache Creek, Thompson-Nicola Regional District, British Columbia, Canada']\n",
      "['1663, Fredrikstad, Viken, Norge', '1663, Parque San Ignacio, Santa María, Partido de San Miguel, Buenos Aires, Argentina', '1663, Gruyères, District de la Gruyère, Fribourg/Freiburg, Schweiz/Suisse/Svizzera/Svizra', '1663, Københavns Kommune, Indre By, Region Hovedstaden, Danmark', '1663, Sipalay, Negros Occidental, Western Visayas, Philippines']\n",
      "['1663, West Campbell Road, Garland, Dallas County, Texas, 75044, United States']\n",
      "['1663, West Campbell Avenue, El Dorado Lakes, Gilbert, Maricopa County, Arizona, 85233, United States', '1663, West Campbell Street, Scarsdale, Arlington Heights, Wheeling Township, Cook County, Illinois, 60005, United States', '1663, West Campbell Street, Garden City, Finney County, Kansas, 67846, United States', '1663, West Campbell Road, Garland, Dallas County, Texas, 75044, United States', '1663, West Campbell Drive, Okaloosa County, Florida, 32547, United States']\n",
      "['75044, Garland, Dallas County, Texas, United States']\n"
     ]
    }
   ],
   "source": [
    "# Create widgets\n",
    "location_input = widgets.Text(placeholder='Enter location', description='Location:')\n",
    "search_button = widgets.Button(description='Search')\n",
    "result_label = widgets.Label(value='')\n",
    "\n",
    "# Assign functions to button click event\n",
    "def on_button_click(btn):\n",
    "    print(search_location(btn))\n",
    "    # latitude, longitude = search_location(btn)\n",
    "    # print(latitude,longitude)\n",
    "    # render_map(latitude, longitude)\n",
    "\n",
    "search_button.on_click(on_button_click)\n",
    "\n",
    "# Display widgets\n",
    "display(location_input)\n",
    "display(search_button)\n",
    "display(result_label)"
   ]
  },
  {
   "cell_type": "code",
   "execution_count": 24,
   "metadata": {},
   "outputs": [
    {
     "data": {
      "application/vnd.jupyter.widget-view+json": {
       "model_id": "df380bb25bd54415bcd5941cf7052802",
       "version_major": 2,
       "version_minor": 0
      },
      "text/plain": [
       "VBox(children=(HBox(children=(Text(value='', description='Location:', placeholder='Enter location'), Button(de…"
      ]
     },
     "metadata": {},
     "output_type": "display_data"
    }
   ],
   "source": [
    "# Create widgets\n",
    "location_input = Text(placeholder='Enter location', description='Location:')\n",
    "search_button = Button(description='Search')\n",
    "result_label = Output()\n",
    "dropdown = Select(options=[])\n",
    "\n",
    "# Geocoder instance\n",
    "geolocator = Nominatim(user_agent=\"location_search\")\n",
    "\n",
    "# Function to search for locations\n",
    "def search_locations(location):\n",
    "    try:\n",
    "        locations = geolocator.geocode(location, exactly_one=False)\n",
    "        if locations:\n",
    "            top_locations = [loc.address.lower() for loc in locations[:5]]\n",
    "            return top_locations\n",
    "        else:\n",
    "            return [\"No matching locations found.\"]\n",
    "    except Exception as e:\n",
    "        return [\"Error occurred during location search.\"]\n",
    "    \n",
    "# Function to update dropdown options\n",
    "def update_dropdown_options(change):\n",
    "    location = change['new'].lower()\n",
    "    options = search_locations(location)\n",
    "    dropdown.options = options\n",
    "    \n",
    "# Function to get coordinates\n",
    "def get_coordinates(address):\n",
    "    try:\n",
    "        location = geolocator.geocode(address)\n",
    "        if location:\n",
    "            return location.latitude, location.longitude\n",
    "        else:\n",
    "            return None, None\n",
    "    except Exception as e:\n",
    "        return None, None\n",
    "    \n",
    "    \n",
    "# Function to render map\n",
    "def render_map(btn):\n",
    "    selected_address = dropdown.value\n",
    "    latitude, longitude = get_coordinates(selected_address)\n",
    "    with result_label:\n",
    "        if latitude is not None and longitude is not None:\n",
    "            result_label.clear_output()\n",
    "            print(f\"Latitude: {latitude}, Longitude: {longitude}\")\n",
    "            # Add code to render map here\n",
    "        else:\n",
    "            result_label.clear_output()\n",
    "            print(\"Location not found.\")\n",
    "            \n",
    "            \n",
    "# Attach event handlers\n",
    "location_input.observe(update_dropdown_options, names='value')\n",
    "search_button.on_click(render_map)\n",
    "\n",
    "# Display widgets\n",
    "display(VBox([\n",
    "    HBox([location_input, search_button]),\n",
    "    dropdown,\n",
    "    result_label\n",
    "]))"
   ]
  },
  {
   "cell_type": "code",
   "execution_count": null,
   "metadata": {},
   "outputs": [],
   "source": []
  }
 ],
 "metadata": {
  "kernelspec": {
   "display_name": "leafmap",
   "language": "python",
   "name": "python3"
  },
  "language_info": {
   "codemirror_mode": {
    "name": "ipython",
    "version": 3
   },
   "file_extension": ".py",
   "mimetype": "text/x-python",
   "name": "python",
   "nbconvert_exporter": "python",
   "pygments_lexer": "ipython3",
   "version": "3.12.2"
  }
 },
 "nbformat": 4,
 "nbformat_minor": 2
}
