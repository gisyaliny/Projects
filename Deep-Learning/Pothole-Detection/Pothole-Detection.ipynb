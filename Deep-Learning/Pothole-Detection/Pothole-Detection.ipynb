{
 "cells": [
  {
   "cell_type": "markdown",
   "metadata": {},
   "source": [
    "## About Dataset\n",
    "\n",
    "🎯 [Pothole Detection for Road Safety: A Segmentation Dataset](https://www.kaggle.com/datasets/farzadnekouei/pothole-image-segmentation-dataset)\n",
    "\n",
    "### Dataset Details:\n",
    "This dataset was sourced via [roboflow.com](https://universe.roboflow.com/farzad/pothole_segmentation_yolov8) and contains a **total of 780 images** annotated in the `YOLOv8` format for pothole detection and segmentation. The images have undergone pre-processing and augmentation to ensure they are primed for training robust models.\n",
    "\n",
    "### Pre-processing applied to each image includes:\n",
    "* Auto-orientation of pixel data (with `EXIF`-orientation stripping)\n",
    "  * The orientation metadata specifies whether the image needs to be rotated for correct viewing, as many digital cameras and smartphones have orientation sensors that detect whether the device was held horizontally or vertically when the photo was taken. \n",
    "  * `EXIF` orientation stripping involves removing this metadata from the image file, usually to ensure consistent display across different platforms or to reduce file size. \n",
    "* Resizing to a dimension of 640x640 (Stretch)\n",
    "\n",
    "* **Augmentation** was performed to create 3 versions of each source image, exclusively on the training data, comprising:\n",
    "  * 50% probability of horizontal flip\n",
    "  * Random cropping (0 to 20% of the image)\n",
    "  * Random rotation (-15 to +15 degrees)\n",
    "  * Random shearing (-5° to +5° horizontally and vertically)\n",
    "  * Random brightness adjustment (-25 to +25 percent)\n",
    "  * Random exposure adjustment (-25 to +25 percent)\n",
    "  \n",
    "* **Train Set**: 720 images\n",
    "* **Validation Set**: 60 images"
   ]
  },
  {
   "cell_type": "markdown",
   "metadata": {},
   "source": []
  }
 ],
 "metadata": {
  "language_info": {
   "name": "python"
  }
 },
 "nbformat": 4,
 "nbformat_minor": 2
}
